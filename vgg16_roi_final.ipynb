{
  "cells": [
    {
      "cell_type": "code",
      "execution_count": null,
      "metadata": {
        "colab": {
          "base_uri": "https://localhost:8080/"
        },
        "id": "95GMbPZ4RjbP",
        "outputId": "d8cb1f56-3c56-4b33-9d3a-dbace73b20f6"
      },
      "outputs": [
        {
          "output_type": "stream",
          "name": "stdout",
          "text": [
            "Mounted at /content/drive\n"
          ]
        }
      ],
      "source": [
        "from google.colab import drive\n",
        "drive.mount('/content/drive')"
      ]
    },
    {
      "cell_type": "code",
      "execution_count": null,
      "metadata": {
        "id": "gk2EgZ-URlWg"
      },
      "outputs": [],
      "source": [
        "import matplotlib.pyplot as plt\n",
        "from PIL import Image\n",
        "import numpy as np\n",
        "import os\n",
        "import cv2\n",
        "\n",
        "\n",
        "def load_and_preprocess(folder_path):\n",
        "  # Iterate through all the images in the folder\n",
        "  for filename in os.listdir(folder_path):\n",
        "      if filename.endswith(\".png\"):\n",
        "          # Load the X-ray image\n",
        "          image = Image.open(os.path.join(folder_path, filename))\n",
        "\n",
        "          # Noise Reduction: Gaussian Blur\n",
        "          blurred_image = cv2.GaussianBlur(image, (5, 5), 0)\n",
        "\n",
        "          # Edge Detection: Canny Edge Detector\n",
        "          edges = cv2.Canny(blurred_image, 50, 150)\n",
        "\n",
        "          # Find contours\n",
        "          contours, _ = cv2.findContours(edges, cv2.RETR_EXTERNAL, cv2.CHAIN_APPROX_SIMPLE)\n",
        "\n",
        "          # Draw contours on a blank image\n",
        "          contour_img = cv2.cvtColor(edges, cv2.COLOR_GRAY2BGR)\n",
        "          cv2.drawContours(contour_img, contours, -1, (0, 255, 0), 2)\n",
        "\n",
        "          roi = contour_img[14:255 , 20:282]\n",
        "\n",
        "          return roi"
      ]
    },
    {
      "cell_type": "code",
      "execution_count": null,
      "metadata": {
        "id": "g6WYbfqnRvxW"
      },
      "outputs": [],
      "source": [
        "import cv2\n",
        "import tensorflow as tf\n",
        "import numpy as np\n",
        "from tensorflow.keras import layers, models\n",
        "import matplotlib.pyplot as plt\n",
        "from tensorflow import keras"
      ]
    },
    {
      "cell_type": "code",
      "execution_count": null,
      "metadata": {
        "colab": {
          "base_uri": "https://localhost:8080/"
        },
        "id": "2OT2AkT9R_Ap",
        "outputId": "af0a118d-6ebf-43a1-8c06-3d62d01458e6"
      },
      "outputs": [
        {
          "output_type": "stream",
          "name": "stdout",
          "text": [
            "Found 1600 images belonging to 2 classes.\n",
            "Found 400 images belonging to 2 classes.\n",
            "Found 200 images belonging to 2 classes.\n"
          ]
        }
      ],
      "source": [
        "from keras.preprocessing.image import ImageDataGenerator\n",
        "train_path = \"/content/drive/MyDrive/Train_withoutMask\"\n",
        "test_path = \"/content/drive/MyDrive/Test_withoutMask\"\n",
        "\n",
        "batch_size = 32\n",
        "\n",
        "# Data generators\n",
        "train_datagen = ImageDataGenerator(\n",
        "    rescale=1./255,\n",
        "    rotation_range=20,\n",
        "    width_shift_range=0.2,\n",
        "    height_shift_range=0.2,\n",
        "    shear_range=0.2,\n",
        "    zoom_range=0.2,\n",
        "    horizontal_flip=True,\n",
        "    fill_mode='nearest',\n",
        "    validation_split=0.2,\n",
        "    preprocessing_function=load_and_preprocess(train_path)\n",
        ")\n",
        "\n",
        "test_datagen = ImageDataGenerator(rescale=1./255,preprocessing_function=load_and_preprocess(test_path))\n",
        "\n",
        "# Train/validation generators\n",
        "train_generator = train_datagen.flow_from_directory(\n",
        "    train_path,\n",
        "    target_size=(224, 224),\n",
        "    batch_size=batch_size,\n",
        "    class_mode='binary',\n",
        "    subset='training',\n",
        "\n",
        ")\n",
        "\n",
        "validation_generator = train_datagen.flow_from_directory(\n",
        "    train_path,\n",
        "    target_size=(224, 224),\n",
        "    batch_size=batch_size,\n",
        "    class_mode='binary',\n",
        "    subset='validation'\n",
        ")\n",
        "\n",
        "# Test generator\n",
        "test_generator = test_datagen.flow_from_directory(\n",
        "    test_path,\n",
        "    target_size=(224, 224),\n",
        "    batch_size=batch_size,\n",
        "    class_mode='binary'\n",
        ")"
      ]
    },
    {
      "cell_type": "code",
      "execution_count": null,
      "metadata": {
        "colab": {
          "base_uri": "https://localhost:8080/"
        },
        "id": "nL-sS56hSgv3",
        "outputId": "6011e43e-c058-4633-f7cb-0b1fc398a693"
      },
      "outputs": [
        {
          "output_type": "stream",
          "name": "stdout",
          "text": [
            "Collecting keras_tuner\n",
            "  Downloading keras_tuner-1.4.7-py3-none-any.whl (129 kB)\n",
            "\u001b[?25l     \u001b[90m━━━━━━━━━━━━━━━━━━━━━━━━━━━━━━━━━━━━━━━━\u001b[0m \u001b[32m0.0/129.1 kB\u001b[0m \u001b[31m?\u001b[0m eta \u001b[36m-:--:--\u001b[0m\r\u001b[2K     \u001b[91m━━━━━━━━━━━━━━━━━━━━━━\u001b[0m\u001b[90m╺\u001b[0m\u001b[90m━━━━━━━━━━━━━━━━━\u001b[0m \u001b[32m71.7/129.1 kB\u001b[0m \u001b[31m1.9 MB/s\u001b[0m eta \u001b[36m0:00:01\u001b[0m\r\u001b[2K     \u001b[90m━━━━━━━━━━━━━━━━━━━━━━━━━━━━━━━━━━━━━━━━\u001b[0m \u001b[32m129.1/129.1 kB\u001b[0m \u001b[31m2.5 MB/s\u001b[0m eta \u001b[36m0:00:00\u001b[0m\n",
            "\u001b[?25hRequirement already satisfied: keras in /usr/local/lib/python3.10/dist-packages (from keras_tuner) (2.15.0)\n",
            "Requirement already satisfied: packaging in /usr/local/lib/python3.10/dist-packages (from keras_tuner) (24.0)\n",
            "Requirement already satisfied: requests in /usr/local/lib/python3.10/dist-packages (from keras_tuner) (2.31.0)\n",
            "Collecting kt-legacy (from keras_tuner)\n",
            "  Downloading kt_legacy-1.0.5-py3-none-any.whl (9.6 kB)\n",
            "Requirement already satisfied: charset-normalizer<4,>=2 in /usr/local/lib/python3.10/dist-packages (from requests->keras_tuner) (3.3.2)\n",
            "Requirement already satisfied: idna<4,>=2.5 in /usr/local/lib/python3.10/dist-packages (from requests->keras_tuner) (3.7)\n",
            "Requirement already satisfied: urllib3<3,>=1.21.1 in /usr/local/lib/python3.10/dist-packages (from requests->keras_tuner) (2.0.7)\n",
            "Requirement already satisfied: certifi>=2017.4.17 in /usr/local/lib/python3.10/dist-packages (from requests->keras_tuner) (2024.2.2)\n",
            "Installing collected packages: kt-legacy, keras_tuner\n",
            "Successfully installed keras_tuner-1.4.7 kt-legacy-1.0.5\n"
          ]
        }
      ],
      "source": [
        "!pip install keras_tuner"
      ]
    },
    {
      "cell_type": "code",
      "execution_count": null,
      "metadata": {
        "colab": {
          "base_uri": "https://localhost:8080/"
        },
        "id": "6QdXQVb8Ryuc",
        "outputId": "ac8eb41c-8d6e-44d8-83d6-b39d60b4b4cf"
      },
      "outputs": [
        {
          "output_type": "stream",
          "name": "stdout",
          "text": [
            "Trial 2 Complete [01h 32m 29s]\n",
            "val_accuracy: 0.9375\n",
            "\n",
            "Best val_accuracy So Far: 0.9449999928474426\n",
            "Total elapsed time: 03h 07m 12s\n",
            "Epoch 1/10\n",
            "50/50 [==============================] - 1117s 22s/step - loss: 0.5413 - accuracy: 0.8781 - val_loss: 0.2087 - val_accuracy: 0.9300\n",
            "Epoch 2/10\n",
            "50/50 [==============================] - 1132s 23s/step - loss: 0.1329 - accuracy: 0.9594 - val_loss: 0.1502 - val_accuracy: 0.9475\n",
            "Epoch 3/10\n",
            "50/50 [==============================] - 1096s 22s/step - loss: 0.1045 - accuracy: 0.9638 - val_loss: 0.1715 - val_accuracy: 0.9375\n",
            "Epoch 4/10\n",
            "50/50 [==============================] - 1132s 23s/step - loss: 0.1300 - accuracy: 0.9519 - val_loss: 0.1454 - val_accuracy: 0.9300\n",
            "Epoch 4: early stopping\n"
          ]
        }
      ],
      "source": [
        "from tensorflow.keras.applications import VGG16\n",
        "from tensorflow.keras.models import Sequential\n",
        "from tensorflow.keras.layers import Dense, Flatten\n",
        "from tensorflow.keras.optimizers import Adam\n",
        "from tensorflow.keras.preprocessing.image import ImageDataGenerator\n",
        "from kerastuner.tuners import RandomSearch\n",
        "from kerastuner.engine.hyperparameters import HyperParameters\n",
        "from keras.callbacks import EarlyStopping\n",
        "\n",
        "vgg_model = VGG16(weights='imagenet', include_top=False, input_shape=(224, 224, 3))\n",
        "\n",
        "for layer in vgg_model.layers:\n",
        "    layer.trainable = False\n",
        "\n",
        "def build_model(hp):\n",
        "    model = Sequential([\n",
        "        vgg_model,\n",
        "        Flatten(),\n",
        "        Dense(256, activation='relu'),\n",
        "        Dense(1, activation='sigmoid')\n",
        "    ])\n",
        "\n",
        "    hp_learning_rate = hp.Choice('learning_rate', values=[1e-2, 1e-3, 1e-4])\n",
        "\n",
        "    model.compile(optimizer=Adam(learning_rate=hp_learning_rate),\n",
        "                  loss='binary_crossentropy',\n",
        "                  metrics=['accuracy'])\n",
        "\n",
        "    return model\n",
        "\n",
        "tuner = RandomSearch(\n",
        "    build_model,\n",
        "    objective='val_accuracy',\n",
        "    max_trials=2, # Adjust this as needed\n",
        "    directory='tuner_results',\n",
        "    project_name='vgg_tuning'\n",
        ")\n",
        "\n",
        "tuner.search(train_generator, validation_data=validation_generator, epochs=5,batch_size=20)\n",
        "\n",
        "# Get the best hyperparameters\n",
        "best_hp = tuner.get_best_hyperparameters(num_trials=1)[0]\n",
        "\n",
        "# Build the model with the best hyperparameters\n",
        "best_model = tuner.hypermodel.build(best_hp)\n",
        "\n",
        "es = EarlyStopping(monitor='val_loss', mode='max', verbose=1, patience=3)\n",
        "\n",
        "# Train the best model\n",
        "H = best_model.fit(train_generator,\n",
        "               validation_data=validation_generator,\n",
        "               epochs=10,\n",
        "               callbacks=[es]\n",
        "               )"
      ]
    },
    {
      "cell_type": "code",
      "execution_count": null,
      "metadata": {
        "id": "Q4uKIU6ItIQR",
        "colab": {
          "base_uri": "https://localhost:8080/",
          "height": 927
        },
        "outputId": "cdfcf1c2-a896-4d42-b0fd-b7bdf89e47e0"
      },
      "outputs": [
        {
          "output_type": "display_data",
          "data": {
            "text/plain": [
              "<Figure size 640x480 with 1 Axes>"
            ],
            "image/png": "[encoded data removed]"
          },
          "metadata": {}
        },
        {
          "output_type": "display_data",
          "data": {
            "text/plain": [
              "<Figure size 640x480 with 1 Axes>"
            ],
            "image/png": "[encoded data removed]"
          },
          "metadata": {}
        }
      ],
      "source": [
        "import matplotlib.pyplot as plt\n",
        "plt.plot(H.history['accuracy'])\n",
        "plt.plot(H.history['val_accuracy'])\n",
        "plt.title('Model accuracy')\n",
        "plt.xlabel('Epoch')\n",
        "plt.ylabel('accuracy')\n",
        "plt.legend(['Train', 'Validation'], loc='upper right')\n",
        "plt.show()\n",
        "\n",
        "# Plot training & validation loss\n",
        "plt.plot(H.history['loss'])\n",
        "plt.plot(H.history['val_loss'])\n",
        "plt.title('Model Loss')\n",
        "plt.xlabel('Epoch')\n",
        "plt.ylabel('Loss')\n",
        "plt.legend(['Train', 'Validation'], loc='upper right')\n",
        "plt.show()\n"
      ]
    },
    {
      "cell_type": "code",
      "source": [
        "drive_path = '/content/drive/My Drive/'\n",
        "best_model.save(drive_path+'vgg16_roi.h5')"
      ],
      "metadata": {
        "colab": {
          "base_uri": "https://localhost:8080/"
        },
        "id": "A-bFubGP3j2T",
        "outputId": "30bccfe2-f48a-4796-869b-8c988d29dd28"
      },
      "execution_count": null,
      "outputs": [
        {
          "output_type": "stream",
          "name": "stderr",
          "text": [
            "/usr/local/lib/python3.10/dist-packages/keras/src/engine/training.py:3103: UserWarning: You are saving your model as an HDF5 file via `model.save()`. This file format is considered legacy. We recommend using instead the native Keras format, e.g. `model.save('my_model.keras')`.\n",
            "  saving_api.save_model(\n"
          ]
        }
      ]
    },
    {
      "cell_type": "code",
      "source": [
        "from sklearn.metrics import confusion_matrix, classification_report\n",
        "import seaborn as sns\n",
        "import matplotlib.pyplot as plt\n",
        "y_true = test_generator.classes\n",
        "y_pred = best_model.predict(test_generator)\n",
        "y_pred_binary = (y_pred > 0.5).astype(int)\n",
        "conf_matrix = confusion_matrix(y_true, y_pred_binary)\n",
        "class_report = classification_report(y_true, y_pred_binary)\n",
        "print(\"Classification Report:\\n\", class_report)"
      ],
      "metadata": {
        "colab": {
          "base_uri": "https://localhost:8080/"
        },
        "id": "-CDyjuaZ5d3I",
        "outputId": "0398c14e-329d-40a5-d8dc-f120c1d86472"
      },
      "execution_count": null,
      "outputs": [
        {
          "output_type": "stream",
          "name": "stdout",
          "text": [
            "7/7 [==============================] - 119s 17s/step\n",
            "Classification Report:\n",
            "               precision    recall  f1-score   support\n",
            "\n",
            "           0       0.50      0.52      0.51       100\n",
            "           1       0.51      0.49      0.50       100\n",
            "\n",
            "    accuracy                           0.51       200\n",
            "   macro avg       0.51      0.51      0.50       200\n",
            "weighted avg       0.51      0.51      0.50       200\n",
            "\n"
          ]
        }
      ]
    },
    {
      "cell_type": "code",
      "source": [
        "plt.figure(figsize=(8, 6))\n",
        "sns.heatmap(conf_matrix, annot=True, fmt='d', cmap='Blues', cbar=False)\n",
        "plt.xlabel('Predicted Labels')\n",
        "plt.ylabel('True Labels')\n",
        "plt.title('Confusion Matrix for Chest X-ray Image Classification')\n",
        "plt.show()"
      ],
      "metadata": {
        "colab": {
          "base_uri": "https://localhost:8080/",
          "height": 564
        },
        "id": "tBiITYaN5gCH",
        "outputId": "bc793600-d798-4090-a150-c586de38bdef"
      },
      "execution_count": null,
      "outputs": [
        {
          "output_type": "display_data",
          "data": {
            "text/plain": [
              "<Figure size 800x600 with 1 Axes>"
            ],
            "image/png": "[encoded data removed]"
          },
          "metadata": {}
        }
      ]
    },
    {
      "cell_type": "code",
      "source": [
        "import pickle\n",
        "# Extract model weights and architecture\n",
        "model_weights = best_model.get_weights()\n",
        "model_config =best_model.get_config()\n",
        "\n",
        "# Save weights and config as a .pkl file\n",
        "with open('vgg16_model.pkl', 'wb') as f:\n",
        "    pickle.dump([model_weights, model_config], f)"
      ],
      "metadata": {
        "id": "wE2Y66xb5ioP"
      },
      "execution_count": null,
      "outputs": []
    },
    {
      "cell_type": "code",
      "source": [
        "from tensorflow.keras.preprocessing import image\n",
        "\n",
        "# Define function to predict on an image\n",
        "def predict_image(img_path):\n",
        "  img = image.load_img(img_path, target_size=(224, 224))  # Adjust size if needed by your model\n",
        "  img = image.img_to_array(img)\n",
        "  img = img / 255.0  # Normalize image (assuming model expects normalized input)\n",
        "  img = np.expand_dims(img, axis=0)  # Add batch dimension\n",
        "  pred = best_model.predict(img)[0][0]  # Get probability for positive class\n",
        "\n",
        "  if pred > 0.5:  # Adjust threshold as needed\n",
        "    return \"COVID-19 Positive ({:.2f}%)\".format(pred * 100)\n",
        "  else:\n",
        "    return \"COVID-19 Negative ({:.2f}%)\".format((1 - pred) * 100)\n",
        "\n",
        "# Specify the folder containing test images\n",
        "test_folder = \"/content/drive/MyDrive/Test_withoutMask/Covid/COVID-1002.png\"\n",
        "predict_image(test_folder)"
      ],
      "metadata": {
        "colab": {
          "base_uri": "https://localhost:8080/",
          "height": 55
        },
        "id": "NDCt1vmF5m67",
        "outputId": "f164c0a1-5f4c-47e4-84f5-dd83dba12e94"
      },
      "execution_count": null,
      "outputs": [
        {
          "output_type": "stream",
          "name": "stdout",
          "text": [
            "1/1 [==============================] - 1s 1s/step\n"
          ]
        },
        {
          "output_type": "execute_result",
          "data": {
            "text/plain": [
              "'COVID-19 Positive (91.84%)'"
            ],
            "application/vnd.google.colaboratory.intrinsic+json": {
              "type": "string"
            }
          },
          "metadata": {},
          "execution_count": 13
        }
      ]
    },
    {
      "cell_type": "code",
      "source": [
        "from tensorflow.keras.preprocessing import image\n",
        "\n",
        "# Define function to predict on an image\n",
        "def predict_image(img_path):\n",
        "  img = image.load_img(img_path, target_size=(224, 224))  # Adjust size if needed by your model\n",
        "  img = image.img_to_array(img)\n",
        "  img = img / 255.0  # Normalize image (assuming model expects normalized input)\n",
        "  img = np.expand_dims(img, axis=0)  # Add batch dimension\n",
        "  pred = best_model.predict(img)[0][0]  # Get probability for positive class\n",
        "\n",
        "  if pred > 0.5:  # Adjust threshold as needed\n",
        "    return \"COVID-19 Positive ({:.2f}%)\".format(pred * 100)\n",
        "  else:\n",
        "    return \"COVID-19 Negative ({:.2f}%)\".format((1 - pred) * 100)\n",
        "\n",
        "# Specify the folder containing test images\n",
        "test_folder = \"/content/drive/MyDrive/Test_withoutMask/normal/Normal-1004.png\"\n",
        "predict_image(test_folder)"
      ],
      "metadata": {
        "colab": {
          "base_uri": "https://localhost:8080/",
          "height": 55
        },
        "id": "brgl9z5o5nvJ",
        "outputId": "41f2f7bb-525f-4a76-caca-41836dfe7be8"
      },
      "execution_count": null,
      "outputs": [
        {
          "output_type": "stream",
          "name": "stdout",
          "text": [
            "1/1 [==============================] - 1s 747ms/step\n"
          ]
        },
        {
          "output_type": "execute_result",
          "data": {
            "text/plain": [
              "'COVID-19 Negative (99.99%)'"
            ],
            "application/vnd.google.colaboratory.intrinsic+json": {
              "type": "string"
            }
          },
          "metadata": {},
          "execution_count": 14
        }
      ]
    },
    {
      "cell_type": "code",
      "source": [],
      "metadata": {
        "id": "P_PnhUGEPOP2"
      },
      "execution_count": null,
      "outputs": []
    }
  ],
  "metadata": {
    "colab": {
      "provenance": []
    },
    "kernelspec": {
      "display_name": "Python 3",
      "name": "python3"
    },
    "language_info": {
      "name": "python"
    }
  },
  "nbformat": 4,
  "nbformat_minor": 0
}