{
  "nbformat": 4,
  "nbformat_minor": 0,
  "metadata": {
    "colab": {
      "provenance": []
    },
    "kernelspec": {
      "name": "python3",
      "display_name": "Python 3"
    },
    "language_info": {
      "name": "python"
    }
  },
  "cells": [
    {
      "cell_type": "code",
      "execution_count": null,
      "metadata": {
        "colab": {
          "base_uri": "https://localhost:8080/"
        },
        "id": "I3n1e53TSj3i",
        "outputId": "f606120d-0a45-4c90-c885-dd4aee27e5b9"
      },
      "outputs": [
        {
          "output_type": "stream",
          "name": "stdout",
          "text": [
            "Mounted at /content/drive\n"
          ]
        }
      ],
      "source": [
        "from google.colab import drive\n",
        "drive.mount('/content/drive')"
      ]
    },
    {
      "cell_type": "code",
      "source": [
        "import matplotlib.pyplot as plt\n",
        "from PIL import Image\n",
        "import numpy as np\n",
        "import os\n",
        "import cv2\n",
        "\n",
        "\n",
        "def load_and_preprocess(folder_path):\n",
        "  # Iterate through all the images in the folder\n",
        "  for filename in os.listdir(folder_path):\n",
        "      if filename.endswith(\".png\"):\n",
        "          # Load the X-ray image\n",
        "          image = Image.open(os.path.join(folder_path, filename))\n",
        "\n",
        "          # Noise Reduction: Gaussian Blur\n",
        "          blurred_image = cv2.GaussianBlur(image, (5, 5), 0)\n",
        "\n",
        "          # Edge Detection: Canny Edge Detector\n",
        "          edges = cv2.Canny(blurred_image, 50, 150)\n",
        "\n",
        "          # Find contours\n",
        "          contours, _ = cv2.findContours(edges, cv2.RETR_EXTERNAL, cv2.CHAIN_APPROX_SIMPLE)\n",
        "\n",
        "          # Draw contours on a blank image\n",
        "          contour_img = cv2.cvtColor(edges, cv2.COLOR_GRAY2BGR)\n",
        "          cv2.drawContours(contour_img, contours, -1, (0, 255, 0), 2)\n",
        "\n",
        "          roi = contour_img[14:255 , 20:282]\n",
        "\n",
        "          return roi"
      ],
      "metadata": {
        "id": "kAljr7xwSoE2"
      },
      "execution_count": null,
      "outputs": []
    },
    {
      "cell_type": "code",
      "source": [
        "import cv2\n",
        "import tensorflow as tf\n",
        "import numpy as np\n",
        "from tensorflow.keras import layers, models\n",
        "import matplotlib.pyplot as plt\n",
        "from tensorflow import keras"
      ],
      "metadata": {
        "id": "7cSDNV6gTEYH"
      },
      "execution_count": null,
      "outputs": []
    },
    {
      "cell_type": "code",
      "source": [
        "from keras.preprocessing.image import ImageDataGenerator\n",
        "train_path = \"/content/drive/MyDrive/Train_withoutMask\"\n",
        "test_path = \"/content/drive/MyDrive/Test_withoutMask\"\n",
        "\n",
        "batch_size = 32\n",
        "\n",
        "# Data generators\n",
        "train_datagen = ImageDataGenerator(\n",
        "    rescale=1./255,\n",
        "    rotation_range=20,\n",
        "    width_shift_range=0.2,\n",
        "    height_shift_range=0.2,\n",
        "    shear_range=0.2,\n",
        "    zoom_range=0.2,\n",
        "    horizontal_flip=True,\n",
        "    fill_mode='nearest',\n",
        "    validation_split=0.2,\n",
        "    preprocessing_function=load_and_preprocess(train_path)\n",
        ")\n",
        "\n",
        "test_datagen = ImageDataGenerator(rescale=1./255,preprocessing_function=load_and_preprocess(test_path))\n",
        "\n",
        "# Train/validation generators\n",
        "train_generator = train_datagen.flow_from_directory(\n",
        "    train_path,\n",
        "    target_size=(224, 224),\n",
        "    batch_size=batch_size,\n",
        "    class_mode='binary',\n",
        "    subset='training',\n",
        "\n",
        ")\n",
        "\n",
        "validation_generator = train_datagen.flow_from_directory(\n",
        "    train_path,\n",
        "    target_size=(224, 224),\n",
        "    batch_size=batch_size,\n",
        "    class_mode='binary',\n",
        "    subset='validation'\n",
        ")\n",
        "\n",
        "# Test generator\n",
        "test_generator = test_datagen.flow_from_directory(\n",
        "    test_path,\n",
        "    target_size=(224, 224),\n",
        "    batch_size=batch_size,\n",
        "    class_mode='binary'\n",
        ")"
      ],
      "metadata": {
        "colab": {
          "base_uri": "https://localhost:8080/"
        },
        "id": "aEIIwDwOTHtM",
        "outputId": "7424e659-f68a-48b5-b533-51439f6fe061"
      },
      "execution_count": null,
      "outputs": [
        {
          "output_type": "stream",
          "name": "stdout",
          "text": [
            "Found 1600 images belonging to 2 classes.\n",
            "Found 400 images belonging to 2 classes.\n",
            "Found 200 images belonging to 2 classes.\n"
          ]
        }
      ]
    },
    {
      "cell_type": "code",
      "source": [
        "!pip install keras_tuner"
      ],
      "metadata": {
        "colab": {
          "base_uri": "https://localhost:8080/"
        },
        "id": "c-l-vl1sTKA8",
        "outputId": "a6887f23-c9de-4f7b-839a-78f95b33ee51"
      },
      "execution_count": null,
      "outputs": [
        {
          "output_type": "stream",
          "name": "stdout",
          "text": [
            "Collecting keras_tuner\n",
            "  Downloading keras_tuner-1.4.7-py3-none-any.whl (129 kB)\n",
            "\u001b[?25l     \u001b[90m━━━━━━━━━━━━━━━━━━━━━━━━━━━━━━━━━━━━━━━━\u001b[0m \u001b[32m0.0/129.1 kB\u001b[0m \u001b[31m?\u001b[0m eta \u001b[36m-:--:--\u001b[0m\r\u001b[2K     \u001b[91m━━━━━━━━━━━━━━━━━━━━━━━━━━━━━━━━━━━━━━\u001b[0m\u001b[90m╺\u001b[0m\u001b[90m━\u001b[0m \u001b[32m122.9/129.1 kB\u001b[0m \u001b[31m4.0 MB/s\u001b[0m eta \u001b[36m0:00:01\u001b[0m\r\u001b[2K     \u001b[90m━━━━━━━━━━━━━━━━━━━━━━━━━━━━━━━━━━━━━━━━\u001b[0m \u001b[32m129.1/129.1 kB\u001b[0m \u001b[31m3.3 MB/s\u001b[0m eta \u001b[36m0:00:00\u001b[0m\n",
            "\u001b[?25hRequirement already satisfied: keras in /usr/local/lib/python3.10/dist-packages (from keras_tuner) (2.15.0)\n",
            "Requirement already satisfied: packaging in /usr/local/lib/python3.10/dist-packages (from keras_tuner) (24.0)\n",
            "Requirement already satisfied: requests in /usr/local/lib/python3.10/dist-packages (from keras_tuner) (2.31.0)\n",
            "Collecting kt-legacy (from keras_tuner)\n",
            "  Downloading kt_legacy-1.0.5-py3-none-any.whl (9.6 kB)\n",
            "Requirement already satisfied: charset-normalizer<4,>=2 in /usr/local/lib/python3.10/dist-packages (from requests->keras_tuner) (3.3.2)\n",
            "Requirement already satisfied: idna<4,>=2.5 in /usr/local/lib/python3.10/dist-packages (from requests->keras_tuner) (3.6)\n",
            "Requirement already satisfied: urllib3<3,>=1.21.1 in /usr/local/lib/python3.10/dist-packages (from requests->keras_tuner) (2.0.7)\n",
            "Requirement already satisfied: certifi>=2017.4.17 in /usr/local/lib/python3.10/dist-packages (from requests->keras_tuner) (2024.2.2)\n",
            "Installing collected packages: kt-legacy, keras_tuner\n",
            "Successfully installed keras_tuner-1.4.7 kt-legacy-1.0.5\n"
          ]
        }
      ]
    },
    {
      "cell_type": "code",
      "source": [
        "from tensorflow.keras.applications import InceptionV3\n",
        "from tensorflow.keras.models import Sequential\n",
        "from tensorflow.keras.layers import Dense, Flatten\n",
        "from tensorflow.keras.optimizers import Adam\n",
        "from tensorflow.keras.preprocessing.image import ImageDataGenerator\n",
        "from keras_tuner.tuners import RandomSearch\n",
        "from keras_tuner.engine.hyperparameters import HyperParameters\n",
        "from keras.callbacks import EarlyStopping\n",
        "\n",
        "\n",
        "mobile_model = InceptionV3(weights='imagenet', include_top=False, input_shape=(224, 224, 3))\n",
        "\n",
        "# Freeze pre-trained layers\n",
        "for layer in mobile_model.layers:\n",
        "    layer.trainable = False\n",
        "\n",
        "def build_model(hp):\n",
        "    model = Sequential([\n",
        "        mobile_model,\n",
        "        Flatten(),\n",
        "        Dense(units=hp.Int('units', min_value=256, max_value=1024, step=64), activation='relu'),\n",
        "        Dense(1, activation='sigmoid')\n",
        "    ])\n",
        "\n",
        "    hp_learning_rate = hp.Choice('learning_rate', values=[1e-2, 1e-3, 1e-4])\n",
        "\n",
        "    model.compile(optimizer=Adam(learning_rate=hp_learning_rate),\n",
        "                  loss='binary_crossentropy',\n",
        "                  metrics=['accuracy'])\n",
        "\n",
        "    return model\n",
        "tuner = RandomSearch(\n",
        "    build_model,\n",
        "    objective='val_accuracy',\n",
        "    max_trials=2, # Adjust this as needed\n",
        "    directory='tuner2_results',\n",
        "    project_name='InceptionV3_tuning'\n",
        ")\n",
        "\n",
        "tuner.search(train_generator, validation_data=validation_generator, epochs=5,batch_size=20)\n",
        "\n",
        "# Get the best hyperparameters\n",
        "best_hp = tuner.get_best_hyperparameters(num_trials=1)[0]\n",
        "\n",
        "# Build the model with the best hyperparameters\n",
        "best_model = tuner.hypermodel.build(best_hp)\n",
        "\n",
        "es = EarlyStopping(monitor='val_loss', mode='max', verbose=1, patience=3)\n",
        "\n",
        "# Train the best model\n",
        "H = best_model.fit(train_generator,\n",
        "               validation_data=validation_generator,\n",
        "               epochs=10,\n",
        "               callbacks=[es]\n",
        "               )\n"
      ],
      "metadata": {
        "colab": {
          "base_uri": "https://localhost:8080/"
        },
        "id": "kTSpb6K0TMN8",
        "outputId": "536444b6-cd6e-42a3-97b3-b1106e9ed927"
      },
      "execution_count": null,
      "outputs": [
        {
          "output_type": "stream",
          "name": "stdout",
          "text": [
            "Trial 2 Complete [00h 30m 32s]\n",
            "val_accuracy: 0.9375\n",
            "\n",
            "Best val_accuracy So Far: 0.9549999833106995\n",
            "Total elapsed time: 01h 02m 47s\n",
            "Epoch 1/10\n",
            "50/50 [==============================] - 340s 7s/step - loss: 1.0095 - accuracy: 0.8656 - val_loss: 0.2472 - val_accuracy: 0.9375\n",
            "Epoch 2/10\n",
            "50/50 [==============================] - 324s 6s/step - loss: 0.1282 - accuracy: 0.9544 - val_loss: 0.1978 - val_accuracy: 0.9325\n",
            "Epoch 3/10\n",
            "50/50 [==============================] - 324s 6s/step - loss: 0.1044 - accuracy: 0.9581 - val_loss: 0.1881 - val_accuracy: 0.9225\n",
            "Epoch 4/10\n",
            "50/50 [==============================] - 327s 7s/step - loss: 0.1039 - accuracy: 0.9594 - val_loss: 0.1566 - val_accuracy: 0.9450\n",
            "Epoch 4: early stopping\n"
          ]
        }
      ]
    },
    {
      "cell_type": "code",
      "source": [
        "import matplotlib.pyplot as plt\n",
        "plt.plot(H.history['accuracy'])\n",
        "plt.plot(H.history['val_accuracy'])\n",
        "plt.title('Model accuracy')\n",
        "plt.xlabel('Epoch')\n",
        "plt.ylabel('accuracy')\n",
        "plt.legend(['Train', 'Validation'], loc='upper right')\n",
        "plt.show()\n",
        "\n",
        "# Plot training & validation loss\n",
        "plt.plot(H.history['loss'])\n",
        "plt.plot(H.history['val_loss'])\n",
        "plt.title('Model Loss')\n",
        "plt.xlabel('Epoch')\n",
        "plt.ylabel('Loss')\n",
        "plt.legend(['Train', 'Validation'], loc='upper right')\n",
        "plt.show()\n"
      ],
      "metadata": {
        "colab": {
          "base_uri": "https://localhost:8080/",
          "height": 927
        },
        "id": "3NJl2mKxTbCn",
        "outputId": "2c5a9f6b-4411-41be-9c7c-b7d2fc7e5a6b"
      },
      "execution_count": null,
      "outputs": [
        {
          "output_type": "display_data",
          "data": {
            "text/plain": [
              "<Figure size 640x480 with 1 Axes>"
            ],
            "image/png": "[encoded data removed]"
          },
          "metadata": {}
        },
        {
          "output_type": "display_data",
          "data": {
            "text/plain": [
              "<Figure size 640x480 with 1 Axes>"
            ],
            "image/png": "[encoded data removed]"
          },
          "metadata": {}
        }
      ]
    },
    {
      "cell_type": "code",
      "source": [
        "drive_path = '/content/drive/My Drive/'\n",
        "best_model.save(drive_path+'Inceptionv3_roi.h5')"
      ],
      "metadata": {
        "colab": {
          "base_uri": "https://localhost:8080/"
        },
        "id": "iJEF12foVkQt",
        "outputId": "be5424f5-15d3-4e67-b922-4987cacaff39"
      },
      "execution_count": null,
      "outputs": [
        {
          "output_type": "stream",
          "name": "stderr",
          "text": [
            "/usr/local/lib/python3.10/dist-packages/keras/src/engine/training.py:3103: UserWarning: You are saving your model as an HDF5 file via `model.save()`. This file format is considered legacy. We recommend using instead the native Keras format, e.g. `model.save('my_model.keras')`.\n",
            "  saving_api.save_model(\n"
          ]
        }
      ]
    },
    {
      "cell_type": "code",
      "source": [
        "from sklearn.metrics import confusion_matrix, classification_report\n",
        "import seaborn as sns\n",
        "import matplotlib.pyplot as plt\n",
        "y_true = test_generator.classes\n",
        "y_pred = best_model.predict(test_generator)\n",
        "y_pred_binary = (y_pred > 0.5).astype(int)\n",
        "conf_matrix = confusion_matrix(y_true, y_pred_binary)\n",
        "class_report = classification_report(y_true, y_pred_binary)\n",
        "print(\"Classification Report:\\n\", class_report)"
      ],
      "metadata": {
        "colab": {
          "base_uri": "https://localhost:8080/"
        },
        "id": "piwNlBO-VqvX",
        "outputId": "ddcdc863-603d-42d1-a273-c00270fc1ed9"
      },
      "execution_count": null,
      "outputs": [
        {
          "output_type": "stream",
          "name": "stdout",
          "text": [
            "7/7 [==============================] - 49s 7s/step\n",
            "Classification Report:\n",
            "               precision    recall  f1-score   support\n",
            "\n",
            "           0       0.52      0.50      0.51       100\n",
            "           1       0.51      0.53      0.52       100\n",
            "\n",
            "    accuracy                           0.52       200\n",
            "   macro avg       0.52      0.52      0.51       200\n",
            "weighted avg       0.52      0.52      0.51       200\n",
            "\n"
          ]
        }
      ]
    },
    {
      "cell_type": "code",
      "source": [
        "plt.figure(figsize=(8, 6))\n",
        "sns.heatmap(conf_matrix, annot=True, fmt='d', cmap='Blues', cbar=False)\n",
        "plt.xlabel('Predicted Labels')\n",
        "plt.ylabel('True Labels')\n",
        "plt.title('Confusion Matrix for Chest X-ray Image Classification')\n",
        "plt.show()"
      ],
      "metadata": {
        "colab": {
          "base_uri": "https://localhost:8080/",
          "height": 564
        },
        "id": "UPIKxR8zVrdP",
        "outputId": "b3893721-171a-4be0-df22-6fb6b9e7462f"
      },
      "execution_count": null,
      "outputs": [
        {
          "output_type": "display_data",
          "data": {
            "text/plain": [
              "<Figure size 800x600 with 1 Axes>"
            ],
            "image/png": "[encoded data removed]"
          },
          "metadata": {}
        }
      ]
    },
    {
      "cell_type": "code",
      "source": [
        "import pickle\n",
        "# Extract model weights and architecture\n",
        "model_weights = best_model.get_weights()\n",
        "model_config =best_model.get_config()\n",
        "\n",
        "# Save weights and config as a .pkl file\n",
        "with open('Inceptionv3_model.pkl', 'wb') as f:\n",
        "    pickle.dump([model_weights, model_config], f)"
      ],
      "metadata": {
        "id": "YE_3RyrmVt5R"
      },
      "execution_count": null,
      "outputs": []
    },
    {
      "cell_type": "code",
      "source": [
        "from tensorflow.keras.preprocessing import image\n",
        "\n",
        "# Define function to predict on an image\n",
        "def predict_image(img_path):\n",
        "  img = image.load_img(img_path, target_size=(224, 224))  # Adjust size if needed by your model\n",
        "  img = image.img_to_array(img)\n",
        "  img = img / 255.0  # Normalize image (assuming model expects normalized input)\n",
        "  img = np.expand_dims(img, axis=0)  # Add batch dimension\n",
        "  pred = best_model.predict(img)[0][0]  # Get probability for positive class\n",
        "\n",
        "  if pred > 0.5:  # Adjust threshold as needed\n",
        "    return \"COVID-19 Positive ({:.2f}%)\".format(pred * 100)\n",
        "  else:\n",
        "    return \"COVID-19 Negative ({:.2f}%)\".format((1 - pred) * 100)\n",
        "\n",
        "# Specify the folder containing test images\n",
        "test_folder = \"/content/drive/MyDrive/Test_withoutMask/Covid/COVID-1002.png\"\n",
        "predict_image(test_folder)"
      ],
      "metadata": {
        "colab": {
          "base_uri": "https://localhost:8080/",
          "height": 55
        },
        "id": "AxVRvUttVyo_",
        "outputId": "afefe0d9-790e-458d-9645-c9925c35bcf3"
      },
      "execution_count": null,
      "outputs": [
        {
          "output_type": "stream",
          "name": "stdout",
          "text": [
            "1/1 [==============================] - 2s 2s/step\n"
          ]
        },
        {
          "output_type": "execute_result",
          "data": {
            "text/plain": [
              "'COVID-19 Positive (97.45%)'"
            ],
            "application/vnd.google.colaboratory.intrinsic+json": {
              "type": "string"
            }
          },
          "metadata": {},
          "execution_count": 12
        }
      ]
    },
    {
      "cell_type": "code",
      "source": [
        "from tensorflow.keras.preprocessing import image\n",
        "\n",
        "# Define function to predict on an image\n",
        "def predict_image(img_path):\n",
        "  img = image.load_img(img_path, target_size=(224, 224))  # Adjust size if needed by your model\n",
        "  img = image.img_to_array(img)\n",
        "  img = img / 255.0  # Normalize image (assuming model expects normalized input)\n",
        "  img = np.expand_dims(img, axis=0)  # Add batch dimension\n",
        "  pred = best_model.predict(img)[0][0]  # Get probability for positive class\n",
        "\n",
        "  if pred > 0.5:  # Adjust threshold as needed\n",
        "    return \"COVID-19 Positive ({:.2f}%)\".format(pred * 100)\n",
        "  else:\n",
        "    return \"COVID-19 Negative ({:.2f}%)\".format((1 - pred) * 100)\n",
        "\n",
        "# Specify the folder containing test images\n",
        "test_folder = \"/content/drive/MyDrive/Test_withoutMask/normal/Normal-1004.png\"\n",
        "predict_image(test_folder)"
      ],
      "metadata": {
        "colab": {
          "base_uri": "https://localhost:8080/",
          "height": 55
        },
        "id": "8qhruKkRV0-a",
        "outputId": "768a8d7e-a903-45e0-9215-2f918fd36bad"
      },
      "execution_count": null,
      "outputs": [
        {
          "output_type": "stream",
          "name": "stdout",
          "text": [
            "1/1 [==============================] - 0s 315ms/step\n"
          ]
        },
        {
          "output_type": "execute_result",
          "data": {
            "text/plain": [
              "'COVID-19 Negative (99.95%)'"
            ],
            "application/vnd.google.colaboratory.intrinsic+json": {
              "type": "string"
            }
          },
          "metadata": {},
          "execution_count": 13
        }
      ]
    },
    {
      "cell_type": "code",
      "source": [],
      "metadata": {
        "id": "s9x8c-ONnqvh"
      },
      "execution_count": null,
      "outputs": []
    }
  ]
}